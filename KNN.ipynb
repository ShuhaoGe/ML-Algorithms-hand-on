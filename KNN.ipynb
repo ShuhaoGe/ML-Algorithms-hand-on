{
 "cells": [
  {
   "cell_type": "code",
   "execution_count": 26,
   "metadata": {},
   "outputs": [],
   "source": [
    "from numpy import array\n",
    "import operator\n"
   ]
  },
  {
   "cell_type": "code",
   "execution_count": 30,
   "metadata": {},
   "outputs": [
    {
     "name": "stdout",
     "output_type": "stream",
     "text": [
      "[list([1.0, 1.1]) list([1.0, 1.0]) list([0, 0]) list([0, 0, 0.1])]\n"
     ]
    }
   ],
   "source": [
    "group=array([[1.0,1.1],[1.0,1.0],[0,0],[0,0,.1]])\n",
    "labels=['A','A','B','B']\n",
    "print group"
   ]
  },
  {
   "cell_type": "code",
   "execution_count": 28,
   "metadata": {},
   "outputs": [],
   "source": [
    "#Pseudocode\n",
    "#calculate the distance between in X and the current point \n",
    "#sort the distances in increasing order\n",
    "#find the majority class among these items\n",
    "#return the majority class as our prediction for the class of inX\n"
   ]
  },
  {
   "cell_type": "code",
   "execution_count": 29,
   "metadata": {},
   "outputs": [],
   "source": [
    "def classify0(inX,group,labels,k):\n",
    "    datasetsize=group.shape[0]\n",
    "    diffmat=tile(inX,(datasetsize,1))-group\n",
    "    sqdiffmat=diffmat**2\n",
    "    sqdistances=sqdiffmat.sum(axis=1)\n",
    "    distance=sqdistances**0.5\n",
    "    sorteddistance=distance.argsort()\n",
    "    classcount={}\n",
    "    for i in range(k):\n",
    "        votelable=labels[sorteddistance[i]]\n",
    "        classcount[votelable]=classcount.get(votelable,0)+1\n",
    "    sortedclasscount=sorted(classcount.iteritems(),key=operator.itemgetter(1),reverse=True)\n",
    "    return sortedclasscount[0][0]"
   ]
  },
  {
   "cell_type": "code",
   "execution_count": null,
   "metadata": {},
   "outputs": [],
   "source": []
  },
  {
   "cell_type": "code",
   "execution_count": null,
   "metadata": {},
   "outputs": [],
   "source": []
  }
 ],
 "metadata": {
  "kernelspec": {
   "display_name": "Python 2",
   "language": "python",
   "name": "python2"
  },
  "language_info": {
   "codemirror_mode": {
    "name": "ipython",
    "version": 2
   },
   "file_extension": ".py",
   "mimetype": "text/x-python",
   "name": "python",
   "nbconvert_exporter": "python",
   "pygments_lexer": "ipython2",
   "version": "2.7.15"
  }
 },
 "nbformat": 4,
 "nbformat_minor": 2
}
